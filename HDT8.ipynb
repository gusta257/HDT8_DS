{
 "cells": [
  {
   "cell_type": "code",
   "execution_count": 1,
   "metadata": {},
   "outputs": [],
   "source": [
    "# Importing the libraries\n",
    "import numpy as np\n",
    "import matplotlib.pyplot as plt\n",
    "from itertools import combinations\n",
    "import pandas as pd\n",
    "import seaborn as sns\n",
    "import numpy as np\n",
    "from sklearn import datasets, linear_model"
   ]
  },
  {
   "cell_type": "markdown",
   "metadata": {},
   "source": [
    "## Recopilación de Datos de Accidentes de Tránsito, del 2015 al 2018"
   ]
  },
  {
   "cell_type": "markdown",
   "metadata": {},
   "source": [
    "# **3.) Descripción de los datos y su limpieza**\n",
    "\n",
    "Los datos de importaciones de vehículos ubicados en el portal de la SAT, proporcionan varios sets de datos de los vehículos entrantes a Guatemala de 2011 a 2020. Se observó que estos datos no requerían de una limpieza extensiva, debido a que no se presentaban datos con espacios vacíos o datos mezcaldos.\n",
    "\n",
    "Tambien tenemos los datasets de los datos de hechos de\n",
    "tránsito, fallecidos y lesionados que tiene el Instituto Nacional de Estadística. Estos en particular no requirieron de mayor limpieza. Los data sets que tenían como principal diferenciador el sexo, contaban con una columna de casos ignorados, los cuales requerían limpieza. Esto porque los mismos poseian \"-\" en lugar de 0, lo cual podría dar problemas. Luego se necesitó de eliminar las primeras 2 filas, con el títulos respectivo de cada dataset, porque estas líneas no permitían visualizar el header de los datasets.\n",
    "\n",
    "Además de esto, también se cuenta con los datos de hechos de tránsito, fallecidos y lesionados proveídos por el Instituto Nacional de Estadística. En términos de limpieza, el procesamiento fue mínimo, debido a que se eliminaron tuplas que no aportaban datos significativos al estudio (como colores ignorados, o edad ignorada). Sin embargo, se realizaron algunas operaciones para legibilidad de datos, como indicar el color del carro en vez del número.\n",
    "\n",
    "las operaciones hechas fueron:\n",
    "- Esta fue para poder reemplazar en esos 2 datasets los valores de \"-\" por 0\n",
    "\n",
    "```\n",
    "dataNFPS.Ignorado = dataNFPS.Ignorado.replace({\"-\": 0})\n",
    "dataNLPS.Ignorado = dataNLPS.Ignorado.replace({\"-\": 0})\n",
    "```\n",
    "\n",
    "\n",
    "\n",
    "- luego para eliminar en todos los datasets las primeras 2 filas se tuvo que hacer de manera manual.\n",
    "\n",
    "- al final fueron guardados para poder utilizarlos sin requerir volver ha hacerles limpieza a todos\n",
    "\n",
    "originalmente casi ninguno requirió de una alta eliminación de filas o grandes cambios, pero si se requirieron hacer los anteriormente mencionados. Así no causaría problemas a la hora de trabajar con cada columna, por algún dato que no sea del mismo tipo o alguna celda vacía."
   ]
  },
  {
   "cell_type": "markdown",
   "metadata": {},
   "source": [
    "Se cargaron los respectivos archivos y se unieron en un sólo DataFrame."
   ]
  },
  {
   "cell_type": "code",
   "execution_count": 2,
   "metadata": {},
   "outputs": [],
   "source": [
    "dataAcc_2015 = pd.read_excel('./accidentes/hechos2015.xlsx')\n",
    "dataAcc_2016 = pd.read_excel('./accidentes/hechos2016.xlsx')\n",
    "dataAcc_2017 = pd.read_excel('./accidentes/hechos2017.xlsx')\n",
    "dataAcc_2018 = pd.read_excel('./accidentes/hechos2018.xlsx')\n",
    "dataAcc_Total = dataAcc_2015.append(dataAcc_2016, sort=False)\n",
    "dataAcc_Total = dataAcc_Total.append(dataAcc_2017, sort=False)\n",
    "dataAcc_Total = dataAcc_Total.append(dataAcc_2018, sort=False)"
   ]
  },
  {
   "cell_type": "code",
   "execution_count": 3,
   "metadata": {},
   "outputs": [
    {
     "data": {
      "text/html": [
       "<div>\n",
       "<style scoped>\n",
       "    .dataframe tbody tr th:only-of-type {\n",
       "        vertical-align: middle;\n",
       "    }\n",
       "\n",
       "    .dataframe tbody tr th {\n",
       "        vertical-align: top;\n",
       "    }\n",
       "\n",
       "    .dataframe thead th {\n",
       "        text-align: right;\n",
       "    }\n",
       "</style>\n",
       "<table border=\"1\" class=\"dataframe\">\n",
       "  <thead>\n",
       "    <tr style=\"text-align: right;\">\n",
       "      <th></th>\n",
       "      <th>núm_corre</th>\n",
       "      <th>año_ocu</th>\n",
       "      <th>mes_ocu</th>\n",
       "      <th>día_ocu</th>\n",
       "      <th>día_sem_ocu</th>\n",
       "      <th>hora_ocu</th>\n",
       "      <th>g_hora</th>\n",
       "      <th>g_hora_5</th>\n",
       "      <th>depto_ocu</th>\n",
       "      <th>mupio_ocu</th>\n",
       "      <th>...</th>\n",
       "      <th>g_edad_80ymás</th>\n",
       "      <th>g_edad_60ymás</th>\n",
       "      <th>edad_quinquenales</th>\n",
       "      <th>estado_con</th>\n",
       "      <th>tipo_veh</th>\n",
       "      <th>marca_veh</th>\n",
       "      <th>color_veh</th>\n",
       "      <th>modelo_veh</th>\n",
       "      <th>g_modelo_veh</th>\n",
       "      <th>tipo_eve</th>\n",
       "    </tr>\n",
       "  </thead>\n",
       "  <tbody>\n",
       "    <tr>\n",
       "      <th>0</th>\n",
       "      <td>1</td>\n",
       "      <td>2015</td>\n",
       "      <td>1</td>\n",
       "      <td>1</td>\n",
       "      <td>4</td>\n",
       "      <td>16</td>\n",
       "      <td>3</td>\n",
       "      <td>2</td>\n",
       "      <td>1</td>\n",
       "      <td>101</td>\n",
       "      <td>...</td>\n",
       "      <td>2.0</td>\n",
       "      <td>2.0</td>\n",
       "      <td>4.0</td>\n",
       "      <td>9.0</td>\n",
       "      <td>4</td>\n",
       "      <td>21</td>\n",
       "      <td>5</td>\n",
       "      <td>2011</td>\n",
       "      <td>5</td>\n",
       "      <td>1</td>\n",
       "    </tr>\n",
       "    <tr>\n",
       "      <th>1</th>\n",
       "      <td>2</td>\n",
       "      <td>2015</td>\n",
       "      <td>1</td>\n",
       "      <td>1</td>\n",
       "      <td>4</td>\n",
       "      <td>22</td>\n",
       "      <td>4</td>\n",
       "      <td>3</td>\n",
       "      <td>1</td>\n",
       "      <td>101</td>\n",
       "      <td>...</td>\n",
       "      <td>5.0</td>\n",
       "      <td>5.0</td>\n",
       "      <td>7.0</td>\n",
       "      <td>1.0</td>\n",
       "      <td>4</td>\n",
       "      <td>21</td>\n",
       "      <td>5</td>\n",
       "      <td>9999</td>\n",
       "      <td>6</td>\n",
       "      <td>1</td>\n",
       "    </tr>\n",
       "    <tr>\n",
       "      <th>2</th>\n",
       "      <td>3</td>\n",
       "      <td>2015</td>\n",
       "      <td>1</td>\n",
       "      <td>1</td>\n",
       "      <td>4</td>\n",
       "      <td>2</td>\n",
       "      <td>1</td>\n",
       "      <td>1</td>\n",
       "      <td>1</td>\n",
       "      <td>101</td>\n",
       "      <td>...</td>\n",
       "      <td>16.0</td>\n",
       "      <td>12.0</td>\n",
       "      <td>18.0</td>\n",
       "      <td>9.0</td>\n",
       "      <td>3</td>\n",
       "      <td>44</td>\n",
       "      <td>6</td>\n",
       "      <td>9999</td>\n",
       "      <td>6</td>\n",
       "      <td>1</td>\n",
       "    </tr>\n",
       "    <tr>\n",
       "      <th>3</th>\n",
       "      <td>4</td>\n",
       "      <td>2015</td>\n",
       "      <td>1</td>\n",
       "      <td>1</td>\n",
       "      <td>4</td>\n",
       "      <td>9</td>\n",
       "      <td>2</td>\n",
       "      <td>1</td>\n",
       "      <td>1</td>\n",
       "      <td>101</td>\n",
       "      <td>...</td>\n",
       "      <td>3.0</td>\n",
       "      <td>3.0</td>\n",
       "      <td>5.0</td>\n",
       "      <td>9.0</td>\n",
       "      <td>4</td>\n",
       "      <td>40</td>\n",
       "      <td>5</td>\n",
       "      <td>9999</td>\n",
       "      <td>6</td>\n",
       "      <td>2</td>\n",
       "    </tr>\n",
       "    <tr>\n",
       "      <th>4</th>\n",
       "      <td>5</td>\n",
       "      <td>2015</td>\n",
       "      <td>1</td>\n",
       "      <td>1</td>\n",
       "      <td>4</td>\n",
       "      <td>1</td>\n",
       "      <td>1</td>\n",
       "      <td>1</td>\n",
       "      <td>1</td>\n",
       "      <td>115</td>\n",
       "      <td>...</td>\n",
       "      <td>3.0</td>\n",
       "      <td>3.0</td>\n",
       "      <td>5.0</td>\n",
       "      <td>9.0</td>\n",
       "      <td>1</td>\n",
       "      <td>34</td>\n",
       "      <td>4</td>\n",
       "      <td>9999</td>\n",
       "      <td>6</td>\n",
       "      <td>2</td>\n",
       "    </tr>\n",
       "  </tbody>\n",
       "</table>\n",
       "<p>5 rows × 25 columns</p>\n",
       "</div>"
      ],
      "text/plain": [
       "   núm_corre  año_ocu  mes_ocu  día_ocu  día_sem_ocu  hora_ocu  g_hora  \\\n",
       "0          1     2015        1        1            4        16       3   \n",
       "1          2     2015        1        1            4        22       4   \n",
       "2          3     2015        1        1            4         2       1   \n",
       "3          4     2015        1        1            4         9       2   \n",
       "4          5     2015        1        1            4         1       1   \n",
       "\n",
       "   g_hora_5  depto_ocu  mupio_ocu  ...  g_edad_80ymás  g_edad_60ymás  \\\n",
       "0         2          1        101  ...            2.0            2.0   \n",
       "1         3          1        101  ...            5.0            5.0   \n",
       "2         1          1        101  ...           16.0           12.0   \n",
       "3         1          1        101  ...            3.0            3.0   \n",
       "4         1          1        115  ...            3.0            3.0   \n",
       "\n",
       "   edad_quinquenales  estado_con  tipo_veh  marca_veh  color_veh  modelo_veh  \\\n",
       "0                4.0         9.0         4         21          5        2011   \n",
       "1                7.0         1.0         4         21          5        9999   \n",
       "2               18.0         9.0         3         44          6        9999   \n",
       "3                5.0         9.0         4         40          5        9999   \n",
       "4                5.0         9.0         1         34          4        9999   \n",
       "\n",
       "   g_modelo_veh  tipo_eve  \n",
       "0             5         1  \n",
       "1             6         1  \n",
       "2             6         1  \n",
       "3             6         2  \n",
       "4             6         2  \n",
       "\n",
       "[5 rows x 25 columns]"
      ]
     },
     "execution_count": 3,
     "metadata": {},
     "output_type": "execute_result"
    }
   ],
   "source": [
    "dataAcc_Total.head()"
   ]
  },
  {
   "cell_type": "markdown",
   "metadata": {},
   "source": [
    "Reemplazo de color de vehículo de código númerico a valor legible."
   ]
  },
  {
   "cell_type": "code",
   "execution_count": 4,
   "metadata": {},
   "outputs": [],
   "source": [
    "dataAcc_Total.loc[dataAcc_Total['color_veh'] == 1, 'color_veh'] = 'Rojo'\n",
    "dataAcc_Total.loc[dataAcc_Total['color_veh'] == 2, 'color_veh']  = 'Blanco'\n",
    "dataAcc_Total.loc[dataAcc_Total['color_veh'] == 3, 'color_veh']  = 'Azul'\n",
    "dataAcc_Total.loc[dataAcc_Total['color_veh'] == 4, 'color_veh']  = 'Gris'\n",
    "dataAcc_Total.loc[dataAcc_Total['color_veh'] == 5, 'color_veh'] = 'Negro'\n",
    "dataAcc_Total.loc[dataAcc_Total['color_veh'] == 6, 'color_veh'] = 'Blanco'\n",
    "dataAcc_Total.loc[dataAcc_Total['color_veh'] == 7, 'color_veh']  = 'Amarillo'\n",
    "dataAcc_Total.loc[dataAcc_Total['color_veh'] == 8, 'color_veh']  = 'Celeste'\n",
    "dataAcc_Total.loc[dataAcc_Total['color_veh'] == 9, 'color_veh']  = 'Corinto'\n",
    "dataAcc_Total.loc[dataAcc_Total['color_veh'] == 10, 'color_veh']  = 'Café'\n",
    "dataAcc_Total.loc[dataAcc_Total['color_veh'] == 11, 'color_veh']  = 'Beige'\n",
    "dataAcc_Total.loc[dataAcc_Total['color_veh'] == 12, 'color_veh']  = 'Turquesa'\n",
    "dataAcc_Total.loc[dataAcc_Total['color_veh'] == 13, 'color_veh']  = 'Marfil'\n",
    "dataAcc_Total.loc[dataAcc_Total['color_veh'] == 14, 'color_veh'] = 'Anaranjado'\n",
    "dataAcc_Total.loc[dataAcc_Total['color_veh'] == 15, 'color_veh']  = 'Morado'\n",
    "dataAcc_Total.loc[dataAcc_Total['color_veh'] == 16, 'color_veh']  = 'Rosado'\n",
    "dataAcc_Total.loc[dataAcc_Total['color_veh'] == 17, 'color_veh']  = 'Varios'"
   ]
  },
  {
   "cell_type": "markdown",
   "metadata": {},
   "source": [
    "Reemplazo de mes de código númerico a valor legible."
   ]
  },
  {
   "cell_type": "code",
   "execution_count": 5,
   "metadata": {},
   "outputs": [],
   "source": [
    "dataAcc_Total.loc[dataAcc_Total['mes_ocu'] == 1, 'mes_ocu'] = 'Enero'\n",
    "dataAcc_Total.loc[dataAcc_Total['mes_ocu'] == 2, 'mes_ocu']  = 'Febrero'\n",
    "dataAcc_Total.loc[dataAcc_Total['mes_ocu'] == 3, 'mes_ocu']  = 'Marzo'\n",
    "dataAcc_Total.loc[dataAcc_Total['mes_ocu'] == 4, 'mes_ocu']  = 'Abril'\n",
    "dataAcc_Total.loc[dataAcc_Total['mes_ocu'] == 5, 'mes_ocu'] = 'Mayo'\n",
    "dataAcc_Total.loc[dataAcc_Total['mes_ocu'] == 6, 'mes_ocu'] = 'Junio'\n",
    "dataAcc_Total.loc[dataAcc_Total['mes_ocu'] == 7, 'mes_ocu']  = 'Julio'\n",
    "dataAcc_Total.loc[dataAcc_Total['mes_ocu'] == 8, 'mes_ocu']  = 'Agosto'\n",
    "dataAcc_Total.loc[dataAcc_Total['mes_ocu'] == 9, 'mes_ocu']  = 'Septiembre'\n",
    "dataAcc_Total.loc[dataAcc_Total['mes_ocu'] == 10, 'mes_ocu']  = 'Octubre'\n",
    "dataAcc_Total.loc[dataAcc_Total['mes_ocu'] == 11, 'mes_ocu']  = 'Noviembre'\n",
    "dataAcc_Total.loc[dataAcc_Total['mes_ocu'] == 12, 'mes_ocu']  = 'Diciembre'"
   ]
  },
  {
   "cell_type": "code",
   "execution_count": 29,
   "metadata": {},
   "outputs": [],
   "source": [
    "dataAcc_Total.loc[dataAcc_Total['día_sem_ocu'] == 1, 'día_sem_ocu'] = 'Lunes'\n",
    "dataAcc_Total.loc[dataAcc_Total['día_sem_ocu'] == 2, 'día_sem_ocu']  = 'Martes'\n",
    "dataAcc_Total.loc[dataAcc_Total['día_sem_ocu'] == 3, 'día_sem_ocu']  = 'Miercoles'\n",
    "dataAcc_Total.loc[dataAcc_Total['día_sem_ocu'] == 4, 'día_sem_ocu']  = 'Jueves'\n",
    "dataAcc_Total.loc[dataAcc_Total['día_sem_ocu'] == 5, 'día_sem_ocu'] = 'Viernes'\n",
    "dataAcc_Total.loc[dataAcc_Total['día_sem_ocu'] == 6, 'día_sem_ocu'] = 'Sabado'\n",
    "dataAcc_Total.loc[dataAcc_Total['día_sem_ocu'] == 7, 'día_sem_ocu']  = 'Domingo'\n",
    "dataAcc_Total.loc[dataAcc_Total['sexo_per'] == 1, 'sexo_per'] = 'Hombre'\n",
    "dataAcc_Total.loc[dataAcc_Total['sexo_per'] == 2, 'sexo_per']  = 'Mujer'\n"
   ]
  },
  {
   "cell_type": "code",
   "execution_count": null,
   "metadata": {},
   "outputs": [],
   "source": []
  },
  {
   "cell_type": "markdown",
   "metadata": {},
   "source": [
    "## Eliminación de datos con color \"99\" y edades con 999"
   ]
  },
  {
   "cell_type": "code",
   "execution_count": 6,
   "metadata": {},
   "outputs": [],
   "source": [
    "indexNull = dataAcc_Total[dataAcc_Total['color_veh'] == 99].index"
   ]
  },
  {
   "cell_type": "code",
   "execution_count": 7,
   "metadata": {},
   "outputs": [],
   "source": [
    "dataAcc_Total.drop(indexNull, inplace=True)"
   ]
  },
  {
   "cell_type": "code",
   "execution_count": 8,
   "metadata": {},
   "outputs": [],
   "source": [
    "indexNull = dataAcc_Total[dataAcc_Total['edad_per'] == 999].index"
   ]
  },
  {
   "cell_type": "code",
   "execution_count": 9,
   "metadata": {},
   "outputs": [],
   "source": [
    "dataAcc_Total.drop(indexNull, inplace=True)"
   ]
  },
  {
   "cell_type": "code",
   "execution_count": 10,
   "metadata": {},
   "outputs": [],
   "source": [
    "dataAcc_Total = dataAcc_Total.where(dataAcc_Total['tipo_veh'] == 4)"
   ]
  },
  {
   "cell_type": "code",
   "execution_count": 11,
   "metadata": {},
   "outputs": [],
   "source": [
    "dataAcc_Total = dataAcc_Total[dataAcc_Total['tipo_veh'].notna()]"
   ]
  },
  {
   "cell_type": "code",
   "execution_count": 12,
   "metadata": {},
   "outputs": [
    {
     "data": {
      "text/html": [
       "<div>\n",
       "<style scoped>\n",
       "    .dataframe tbody tr th:only-of-type {\n",
       "        vertical-align: middle;\n",
       "    }\n",
       "\n",
       "    .dataframe tbody tr th {\n",
       "        vertical-align: top;\n",
       "    }\n",
       "\n",
       "    .dataframe thead th {\n",
       "        text-align: right;\n",
       "    }\n",
       "</style>\n",
       "<table border=\"1\" class=\"dataframe\">\n",
       "  <thead>\n",
       "    <tr style=\"text-align: right;\">\n",
       "      <th></th>\n",
       "      <th>núm_corre</th>\n",
       "      <th>año_ocu</th>\n",
       "      <th>mes_ocu</th>\n",
       "      <th>día_ocu</th>\n",
       "      <th>día_sem_ocu</th>\n",
       "      <th>hora_ocu</th>\n",
       "      <th>g_hora</th>\n",
       "      <th>g_hora_5</th>\n",
       "      <th>depto_ocu</th>\n",
       "      <th>mupio_ocu</th>\n",
       "      <th>...</th>\n",
       "      <th>g_edad_80ymás</th>\n",
       "      <th>g_edad_60ymás</th>\n",
       "      <th>edad_quinquenales</th>\n",
       "      <th>estado_con</th>\n",
       "      <th>tipo_veh</th>\n",
       "      <th>marca_veh</th>\n",
       "      <th>color_veh</th>\n",
       "      <th>modelo_veh</th>\n",
       "      <th>g_modelo_veh</th>\n",
       "      <th>tipo_eve</th>\n",
       "    </tr>\n",
       "  </thead>\n",
       "  <tbody>\n",
       "    <tr>\n",
       "      <th>0</th>\n",
       "      <td>1.0</td>\n",
       "      <td>2015.0</td>\n",
       "      <td>Enero</td>\n",
       "      <td>1.0</td>\n",
       "      <td>4.0</td>\n",
       "      <td>16.0</td>\n",
       "      <td>3.0</td>\n",
       "      <td>2.0</td>\n",
       "      <td>1.0</td>\n",
       "      <td>101.0</td>\n",
       "      <td>...</td>\n",
       "      <td>2.0</td>\n",
       "      <td>2.0</td>\n",
       "      <td>4.0</td>\n",
       "      <td>9.0</td>\n",
       "      <td>4.0</td>\n",
       "      <td>21.0</td>\n",
       "      <td>Negro</td>\n",
       "      <td>2011.0</td>\n",
       "      <td>5.0</td>\n",
       "      <td>1.0</td>\n",
       "    </tr>\n",
       "    <tr>\n",
       "      <th>1</th>\n",
       "      <td>2.0</td>\n",
       "      <td>2015.0</td>\n",
       "      <td>Enero</td>\n",
       "      <td>1.0</td>\n",
       "      <td>4.0</td>\n",
       "      <td>22.0</td>\n",
       "      <td>4.0</td>\n",
       "      <td>3.0</td>\n",
       "      <td>1.0</td>\n",
       "      <td>101.0</td>\n",
       "      <td>...</td>\n",
       "      <td>5.0</td>\n",
       "      <td>5.0</td>\n",
       "      <td>7.0</td>\n",
       "      <td>1.0</td>\n",
       "      <td>4.0</td>\n",
       "      <td>21.0</td>\n",
       "      <td>Negro</td>\n",
       "      <td>9999.0</td>\n",
       "      <td>6.0</td>\n",
       "      <td>1.0</td>\n",
       "    </tr>\n",
       "    <tr>\n",
       "      <th>3</th>\n",
       "      <td>4.0</td>\n",
       "      <td>2015.0</td>\n",
       "      <td>Enero</td>\n",
       "      <td>1.0</td>\n",
       "      <td>4.0</td>\n",
       "      <td>9.0</td>\n",
       "      <td>2.0</td>\n",
       "      <td>1.0</td>\n",
       "      <td>1.0</td>\n",
       "      <td>101.0</td>\n",
       "      <td>...</td>\n",
       "      <td>3.0</td>\n",
       "      <td>3.0</td>\n",
       "      <td>5.0</td>\n",
       "      <td>9.0</td>\n",
       "      <td>4.0</td>\n",
       "      <td>40.0</td>\n",
       "      <td>Negro</td>\n",
       "      <td>9999.0</td>\n",
       "      <td>6.0</td>\n",
       "      <td>2.0</td>\n",
       "    </tr>\n",
       "    <tr>\n",
       "      <th>5</th>\n",
       "      <td>6.0</td>\n",
       "      <td>2015.0</td>\n",
       "      <td>Enero</td>\n",
       "      <td>1.0</td>\n",
       "      <td>4.0</td>\n",
       "      <td>8.0</td>\n",
       "      <td>2.0</td>\n",
       "      <td>1.0</td>\n",
       "      <td>1.0</td>\n",
       "      <td>114.0</td>\n",
       "      <td>...</td>\n",
       "      <td>2.0</td>\n",
       "      <td>2.0</td>\n",
       "      <td>4.0</td>\n",
       "      <td>1.0</td>\n",
       "      <td>4.0</td>\n",
       "      <td>41.0</td>\n",
       "      <td>Gris</td>\n",
       "      <td>9999.0</td>\n",
       "      <td>6.0</td>\n",
       "      <td>3.0</td>\n",
       "    </tr>\n",
       "    <tr>\n",
       "      <th>12</th>\n",
       "      <td>13.0</td>\n",
       "      <td>2015.0</td>\n",
       "      <td>Enero</td>\n",
       "      <td>2.0</td>\n",
       "      <td>5.0</td>\n",
       "      <td>10.0</td>\n",
       "      <td>2.0</td>\n",
       "      <td>1.0</td>\n",
       "      <td>1.0</td>\n",
       "      <td>101.0</td>\n",
       "      <td>...</td>\n",
       "      <td>3.0</td>\n",
       "      <td>3.0</td>\n",
       "      <td>5.0</td>\n",
       "      <td>9.0</td>\n",
       "      <td>4.0</td>\n",
       "      <td>49.0</td>\n",
       "      <td>Azul</td>\n",
       "      <td>9999.0</td>\n",
       "      <td>6.0</td>\n",
       "      <td>1.0</td>\n",
       "    </tr>\n",
       "    <tr>\n",
       "      <th>...</th>\n",
       "      <td>...</td>\n",
       "      <td>...</td>\n",
       "      <td>...</td>\n",
       "      <td>...</td>\n",
       "      <td>...</td>\n",
       "      <td>...</td>\n",
       "      <td>...</td>\n",
       "      <td>...</td>\n",
       "      <td>...</td>\n",
       "      <td>...</td>\n",
       "      <td>...</td>\n",
       "      <td>...</td>\n",
       "      <td>...</td>\n",
       "      <td>...</td>\n",
       "      <td>...</td>\n",
       "      <td>...</td>\n",
       "      <td>...</td>\n",
       "      <td>...</td>\n",
       "      <td>...</td>\n",
       "      <td>...</td>\n",
       "      <td>...</td>\n",
       "    </tr>\n",
       "    <tr>\n",
       "      <th>6246</th>\n",
       "      <td>6247.0</td>\n",
       "      <td>2018.0</td>\n",
       "      <td>Diciembre</td>\n",
       "      <td>14.0</td>\n",
       "      <td>5.0</td>\n",
       "      <td>20.0</td>\n",
       "      <td>4.0</td>\n",
       "      <td>3.0</td>\n",
       "      <td>1.0</td>\n",
       "      <td>101.0</td>\n",
       "      <td>...</td>\n",
       "      <td>NaN</td>\n",
       "      <td>NaN</td>\n",
       "      <td>NaN</td>\n",
       "      <td>NaN</td>\n",
       "      <td>4.0</td>\n",
       "      <td>18.0</td>\n",
       "      <td>Negro</td>\n",
       "      <td>2018.0</td>\n",
       "      <td>5.0</td>\n",
       "      <td>5.0</td>\n",
       "    </tr>\n",
       "    <tr>\n",
       "      <th>6247</th>\n",
       "      <td>6248.0</td>\n",
       "      <td>2018.0</td>\n",
       "      <td>Diciembre</td>\n",
       "      <td>14.0</td>\n",
       "      <td>5.0</td>\n",
       "      <td>20.0</td>\n",
       "      <td>4.0</td>\n",
       "      <td>3.0</td>\n",
       "      <td>1.0</td>\n",
       "      <td>115.0</td>\n",
       "      <td>...</td>\n",
       "      <td>NaN</td>\n",
       "      <td>NaN</td>\n",
       "      <td>NaN</td>\n",
       "      <td>NaN</td>\n",
       "      <td>4.0</td>\n",
       "      <td>32.0</td>\n",
       "      <td>Negro</td>\n",
       "      <td>9999.0</td>\n",
       "      <td>99.0</td>\n",
       "      <td>5.0</td>\n",
       "    </tr>\n",
       "    <tr>\n",
       "      <th>6257</th>\n",
       "      <td>6258.0</td>\n",
       "      <td>2018.0</td>\n",
       "      <td>Diciembre</td>\n",
       "      <td>15.0</td>\n",
       "      <td>6.0</td>\n",
       "      <td>15.0</td>\n",
       "      <td>3.0</td>\n",
       "      <td>2.0</td>\n",
       "      <td>1.0</td>\n",
       "      <td>101.0</td>\n",
       "      <td>...</td>\n",
       "      <td>NaN</td>\n",
       "      <td>NaN</td>\n",
       "      <td>NaN</td>\n",
       "      <td>NaN</td>\n",
       "      <td>4.0</td>\n",
       "      <td>6.0</td>\n",
       "      <td>Rojo</td>\n",
       "      <td>2012.0</td>\n",
       "      <td>5.0</td>\n",
       "      <td>5.0</td>\n",
       "    </tr>\n",
       "    <tr>\n",
       "      <th>6271</th>\n",
       "      <td>6272.0</td>\n",
       "      <td>2018.0</td>\n",
       "      <td>Diciembre</td>\n",
       "      <td>15.0</td>\n",
       "      <td>6.0</td>\n",
       "      <td>21.0</td>\n",
       "      <td>4.0</td>\n",
       "      <td>3.0</td>\n",
       "      <td>11.0</td>\n",
       "      <td>1102.0</td>\n",
       "      <td>...</td>\n",
       "      <td>NaN</td>\n",
       "      <td>NaN</td>\n",
       "      <td>NaN</td>\n",
       "      <td>NaN</td>\n",
       "      <td>4.0</td>\n",
       "      <td>27.0</td>\n",
       "      <td>Blanco</td>\n",
       "      <td>9999.0</td>\n",
       "      <td>99.0</td>\n",
       "      <td>5.0</td>\n",
       "    </tr>\n",
       "    <tr>\n",
       "      <th>6384</th>\n",
       "      <td>6385.0</td>\n",
       "      <td>2018.0</td>\n",
       "      <td>Diciembre</td>\n",
       "      <td>30.0</td>\n",
       "      <td>7.0</td>\n",
       "      <td>20.0</td>\n",
       "      <td>4.0</td>\n",
       "      <td>3.0</td>\n",
       "      <td>10.0</td>\n",
       "      <td>1001.0</td>\n",
       "      <td>...</td>\n",
       "      <td>NaN</td>\n",
       "      <td>NaN</td>\n",
       "      <td>NaN</td>\n",
       "      <td>NaN</td>\n",
       "      <td>4.0</td>\n",
       "      <td>67.0</td>\n",
       "      <td>Rojo</td>\n",
       "      <td>2006.0</td>\n",
       "      <td>4.0</td>\n",
       "      <td>5.0</td>\n",
       "    </tr>\n",
       "  </tbody>\n",
       "</table>\n",
       "<p>2098 rows × 25 columns</p>\n",
       "</div>"
      ],
      "text/plain": [
       "      núm_corre  año_ocu    mes_ocu  día_ocu  día_sem_ocu  hora_ocu  g_hora  \\\n",
       "0           1.0   2015.0      Enero      1.0          4.0      16.0     3.0   \n",
       "1           2.0   2015.0      Enero      1.0          4.0      22.0     4.0   \n",
       "3           4.0   2015.0      Enero      1.0          4.0       9.0     2.0   \n",
       "5           6.0   2015.0      Enero      1.0          4.0       8.0     2.0   \n",
       "12         13.0   2015.0      Enero      2.0          5.0      10.0     2.0   \n",
       "...         ...      ...        ...      ...          ...       ...     ...   \n",
       "6246     6247.0   2018.0  Diciembre     14.0          5.0      20.0     4.0   \n",
       "6247     6248.0   2018.0  Diciembre     14.0          5.0      20.0     4.0   \n",
       "6257     6258.0   2018.0  Diciembre     15.0          6.0      15.0     3.0   \n",
       "6271     6272.0   2018.0  Diciembre     15.0          6.0      21.0     4.0   \n",
       "6384     6385.0   2018.0  Diciembre     30.0          7.0      20.0     4.0   \n",
       "\n",
       "      g_hora_5  depto_ocu  mupio_ocu  ...  g_edad_80ymás  g_edad_60ymás  \\\n",
       "0          2.0        1.0      101.0  ...            2.0            2.0   \n",
       "1          3.0        1.0      101.0  ...            5.0            5.0   \n",
       "3          1.0        1.0      101.0  ...            3.0            3.0   \n",
       "5          1.0        1.0      114.0  ...            2.0            2.0   \n",
       "12         1.0        1.0      101.0  ...            3.0            3.0   \n",
       "...        ...        ...        ...  ...            ...            ...   \n",
       "6246       3.0        1.0      101.0  ...            NaN            NaN   \n",
       "6247       3.0        1.0      115.0  ...            NaN            NaN   \n",
       "6257       2.0        1.0      101.0  ...            NaN            NaN   \n",
       "6271       3.0       11.0     1102.0  ...            NaN            NaN   \n",
       "6384       3.0       10.0     1001.0  ...            NaN            NaN   \n",
       "\n",
       "      edad_quinquenales  estado_con  tipo_veh  marca_veh  color_veh  \\\n",
       "0                   4.0         9.0       4.0       21.0      Negro   \n",
       "1                   7.0         1.0       4.0       21.0      Negro   \n",
       "3                   5.0         9.0       4.0       40.0      Negro   \n",
       "5                   4.0         1.0       4.0       41.0       Gris   \n",
       "12                  5.0         9.0       4.0       49.0       Azul   \n",
       "...                 ...         ...       ...        ...        ...   \n",
       "6246                NaN         NaN       4.0       18.0      Negro   \n",
       "6247                NaN         NaN       4.0       32.0      Negro   \n",
       "6257                NaN         NaN       4.0        6.0       Rojo   \n",
       "6271                NaN         NaN       4.0       27.0     Blanco   \n",
       "6384                NaN         NaN       4.0       67.0       Rojo   \n",
       "\n",
       "      modelo_veh  g_modelo_veh  tipo_eve  \n",
       "0         2011.0           5.0       1.0  \n",
       "1         9999.0           6.0       1.0  \n",
       "3         9999.0           6.0       2.0  \n",
       "5         9999.0           6.0       3.0  \n",
       "12        9999.0           6.0       1.0  \n",
       "...          ...           ...       ...  \n",
       "6246      2018.0           5.0       5.0  \n",
       "6247      9999.0          99.0       5.0  \n",
       "6257      2012.0           5.0       5.0  \n",
       "6271      9999.0          99.0       5.0  \n",
       "6384      2006.0           4.0       5.0  \n",
       "\n",
       "[2098 rows x 25 columns]"
      ]
     },
     "execution_count": 12,
     "metadata": {},
     "output_type": "execute_result"
    }
   ],
   "source": [
    "dataAcc_Total"
   ]
  },
  {
   "cell_type": "code",
   "execution_count": 13,
   "metadata": {},
   "outputs": [
    {
     "data": {
      "text/plain": [
       "núm_corre            2098\n",
       "año_ocu              2098\n",
       "mes_ocu              2098\n",
       "día_ocu              2098\n",
       "día_sem_ocu          2098\n",
       "hora_ocu             2098\n",
       "g_hora               2098\n",
       "g_hora_5             2098\n",
       "depto_ocu            2098\n",
       "mupio_ocu            2098\n",
       "área_geo_ocu         1252\n",
       "zona_ocu             2098\n",
       "sexo_per              646\n",
       "edad_per              646\n",
       "mayor_menor           646\n",
       "g_edad_80ymás         646\n",
       "g_edad_60ymás         646\n",
       "edad_quinquenales     646\n",
       "estado_con            646\n",
       "tipo_veh             2098\n",
       "marca_veh            2098\n",
       "color_veh            2098\n",
       "modelo_veh           2098\n",
       "g_modelo_veh         2098\n",
       "tipo_eve             2098\n",
       "dtype: int64"
      ]
     },
     "execution_count": 13,
     "metadata": {},
     "output_type": "execute_result"
    }
   ],
   "source": [
    "dataAcc_Total.count()"
   ]
  },
  {
   "cell_type": "markdown",
   "metadata": {},
   "source": [
    "## Exploracion de datos"
   ]
  },
  {
   "cell_type": "markdown",
   "metadata": {},
   "source": [
    "### Descripción de los datos"
   ]
  },
  {
   "cell_type": "markdown",
   "metadata": {},
   "source": [
    "*   **color_veh** - Variable de tipo categórica. Indica el color del vehículo, es una variable indispensable a tomar en cuenta en el estudio.\n",
    "*   **marca_veh** - Variable de tipo categórica. Indica la marca del vehículo, en número. Los datos actuales no indican la marca, debido a que en el diccionario de hechos, el único número con referencia a marca es el \"99\", indicando marca ignorada. Es una variable céntrica en el estudio realizado, sin embargo, por la poca información aportada por el diccionario de hechos, no aporta significativamente al estudio. \n",
    "* En total, este dataset cuenta con 25 variables y 27092 filas o ejemplos.\n"
   ]
  },
  {
   "cell_type": "markdown",
   "metadata": {},
   "source": [
    "### Resumen de variables"
   ]
  },
  {
   "cell_type": "markdown",
   "metadata": {},
   "source": [
    "#### Color de carro"
   ]
  },
  {
   "cell_type": "code",
   "execution_count": 14,
   "metadata": {},
   "outputs": [
    {
     "name": "stderr",
     "output_type": "stream",
     "text": [
      "/home/gustavo/.local/lib/python3.6/site-packages/seaborn/_decorators.py:43: FutureWarning: Pass the following variables as keyword args: x, y. From version 0.12, the only valid positional argument will be `data`, and passing other arguments without an explicit keyword will result in an error or misinterpretation.\n",
      "  FutureWarning\n"
     ]
    },
    {
     "data": {
      "text/plain": [
       "<matplotlib.axes._subplots.AxesSubplot at 0x7f1148a3df98>"
      ]
     },
     "execution_count": 14,
     "metadata": {},
     "output_type": "execute_result"
    },
    {
     "data": {
      "image/png": "[encoded data removed]",
      "text/plain": [
       "<Figure size 1080x360 with 1 Axes>"
      ]
     },
     "metadata": {
      "needs_background": "light"
     },
     "output_type": "display_data"
    }
   ],
   "source": [
    "s = dataAcc_Total.groupby('color_veh').size().reset_index(name='counts').sort_values(ascending=False, by=['counts'])\n",
    "fig_dims = (15, 5)\n",
    "fig, ax = plt.subplots(figsize=fig_dims)\n",
    "sns.barplot(s.color_veh, s.counts, alpha=0.8, ax=ax,palette=(\"black\",\"red\",\"blue\",\"pink\",\"gray\",\"yellow\",\"red\",\"orange\",\"brown\"))"
   ]
  },
  {
   "cell_type": "code",
   "execution_count": 15,
   "metadata": {},
   "outputs": [
    {
     "data": {
      "text/html": [
       "<div>\n",
       "<style scoped>\n",
       "    .dataframe tbody tr th:only-of-type {\n",
       "        vertical-align: middle;\n",
       "    }\n",
       "\n",
       "    .dataframe tbody tr th {\n",
       "        vertical-align: top;\n",
       "    }\n",
       "\n",
       "    .dataframe thead th {\n",
       "        text-align: right;\n",
       "    }\n",
       "</style>\n",
       "<table border=\"1\" class=\"dataframe\">\n",
       "  <thead>\n",
       "    <tr style=\"text-align: right;\">\n",
       "      <th></th>\n",
       "      <th>color_veh</th>\n",
       "      <th>counts</th>\n",
       "    </tr>\n",
       "  </thead>\n",
       "  <tbody>\n",
       "    <tr>\n",
       "      <th>10</th>\n",
       "      <td>Negro</td>\n",
       "      <td>821</td>\n",
       "    </tr>\n",
       "    <tr>\n",
       "      <th>11</th>\n",
       "      <td>Rojo</td>\n",
       "      <td>631</td>\n",
       "    </tr>\n",
       "    <tr>\n",
       "      <th>2</th>\n",
       "      <td>Azul</td>\n",
       "      <td>293</td>\n",
       "    </tr>\n",
       "  </tbody>\n",
       "</table>\n",
       "</div>"
      ],
      "text/plain": [
       "   color_veh  counts\n",
       "10     Negro     821\n",
       "11      Rojo     631\n",
       "2       Azul     293"
      ]
     },
     "execution_count": 15,
     "metadata": {},
     "output_type": "execute_result"
    }
   ],
   "source": [
    "dataAcc_Total.groupby('color_veh').size().reset_index(name='counts').sort_values(by=['counts'], ascending=False).head(3)"
   ]
  },
  {
   "cell_type": "markdown",
   "metadata": {},
   "source": [
    "#### Cantidad de accidentes por año"
   ]
  },
  {
   "cell_type": "code",
   "execution_count": 16,
   "metadata": {},
   "outputs": [
    {
     "name": "stderr",
     "output_type": "stream",
     "text": [
      "/home/gustavo/.local/lib/python3.6/site-packages/seaborn/_decorators.py:43: FutureWarning: Pass the following variables as keyword args: x, y. From version 0.12, the only valid positional argument will be `data`, and passing other arguments without an explicit keyword will result in an error or misinterpretation.\n",
      "  FutureWarning\n"
     ]
    },
    {
     "data": {
      "text/plain": [
       "<matplotlib.axes._subplots.AxesSubplot at 0x7f11487dd780>"
      ]
     },
     "execution_count": 16,
     "metadata": {},
     "output_type": "execute_result"
    },
    {
     "data": {
      "image/png": "[encoded data removed]",
      "text/plain": [
       "<Figure size 1800x360 with 1 Axes>"
      ]
     },
     "metadata": {
      "needs_background": "light"
     },
     "output_type": "display_data"
    }
   ],
   "source": [
    "s = dataAcc_Total.groupby('año_ocu').size().reset_index(name='counts').sort_values(ascending=False, by=['counts'])\n",
    "fig_dims = (25, 5)\n",
    "fig, ax = plt.subplots(figsize=fig_dims)\n",
    "sns.barplot(s.año_ocu, s.counts, alpha=0.8, ax=ax)"
   ]
  },
  {
   "cell_type": "code",
   "execution_count": 17,
   "metadata": {},
   "outputs": [
    {
     "data": {
      "text/html": [
       "<div>\n",
       "<style scoped>\n",
       "    .dataframe tbody tr th:only-of-type {\n",
       "        vertical-align: middle;\n",
       "    }\n",
       "\n",
       "    .dataframe tbody tr th {\n",
       "        vertical-align: top;\n",
       "    }\n",
       "\n",
       "    .dataframe thead th {\n",
       "        text-align: right;\n",
       "    }\n",
       "</style>\n",
       "<table border=\"1\" class=\"dataframe\">\n",
       "  <thead>\n",
       "    <tr style=\"text-align: right;\">\n",
       "      <th></th>\n",
       "      <th>año_ocu</th>\n",
       "      <th>counts</th>\n",
       "    </tr>\n",
       "  </thead>\n",
       "  <tbody>\n",
       "    <tr>\n",
       "      <th>0</th>\n",
       "      <td>2015.0</td>\n",
       "      <td>646</td>\n",
       "    </tr>\n",
       "    <tr>\n",
       "      <th>1</th>\n",
       "      <td>2016.0</td>\n",
       "      <td>606</td>\n",
       "    </tr>\n",
       "    <tr>\n",
       "      <th>3</th>\n",
       "      <td>2018.0</td>\n",
       "      <td>450</td>\n",
       "    </tr>\n",
       "    <tr>\n",
       "      <th>2</th>\n",
       "      <td>2017.0</td>\n",
       "      <td>396</td>\n",
       "    </tr>\n",
       "  </tbody>\n",
       "</table>\n",
       "</div>"
      ],
      "text/plain": [
       "   año_ocu  counts\n",
       "0   2015.0     646\n",
       "1   2016.0     606\n",
       "3   2018.0     450\n",
       "2   2017.0     396"
      ]
     },
     "execution_count": 17,
     "metadata": {},
     "output_type": "execute_result"
    }
   ],
   "source": [
    "dataAcc_Total.groupby('año_ocu').size().reset_index(name='counts').sort_values(by=['counts'], ascending=False)"
   ]
  },
  {
   "cell_type": "code",
   "execution_count": 18,
   "metadata": {},
   "outputs": [
    {
     "name": "stderr",
     "output_type": "stream",
     "text": [
      "/home/gustavo/.local/lib/python3.6/site-packages/seaborn/_decorators.py:43: FutureWarning: Pass the following variables as keyword args: x, y. From version 0.12, the only valid positional argument will be `data`, and passing other arguments without an explicit keyword will result in an error or misinterpretation.\n",
      "  FutureWarning\n"
     ]
    },
    {
     "data": {
      "text/plain": [
       "<matplotlib.axes._subplots.AxesSubplot at 0x7f114884a7f0>"
      ]
     },
     "execution_count": 18,
     "metadata": {},
     "output_type": "execute_result"
    },
    {
     "data": {
      "image/png": "[encoded data removed]",
      "text/plain": [
       "<Figure size 1800x360 with 1 Axes>"
      ]
     },
     "metadata": {
      "needs_background": "light"
     },
     "output_type": "display_data"
    }
   ],
   "source": [
    "s = dataAcc_Total.groupby('mes_ocu').size().reset_index(name='counts').sort_values(ascending=False, by=['counts'])\n",
    "fig_dims = (25, 5)\n",
    "fig, ax = plt.subplots(figsize=fig_dims)\n",
    "sns.barplot(s.mes_ocu, s.counts, alpha=0.8, ax=ax)"
   ]
  },
  {
   "cell_type": "code",
   "execution_count": 19,
   "metadata": {},
   "outputs": [
    {
     "data": {
      "text/html": [
       "<div>\n",
       "<style scoped>\n",
       "    .dataframe tbody tr th:only-of-type {\n",
       "        vertical-align: middle;\n",
       "    }\n",
       "\n",
       "    .dataframe tbody tr th {\n",
       "        vertical-align: top;\n",
       "    }\n",
       "\n",
       "    .dataframe thead th {\n",
       "        text-align: right;\n",
       "    }\n",
       "</style>\n",
       "<table border=\"1\" class=\"dataframe\">\n",
       "  <thead>\n",
       "    <tr style=\"text-align: right;\">\n",
       "      <th></th>\n",
       "      <th>mes_ocu</th>\n",
       "      <th>counts</th>\n",
       "    </tr>\n",
       "  </thead>\n",
       "  <tbody>\n",
       "    <tr>\n",
       "      <th>11</th>\n",
       "      <td>Septiembre</td>\n",
       "      <td>207</td>\n",
       "    </tr>\n",
       "    <tr>\n",
       "      <th>2</th>\n",
       "      <td>Diciembre</td>\n",
       "      <td>199</td>\n",
       "    </tr>\n",
       "    <tr>\n",
       "      <th>1</th>\n",
       "      <td>Agosto</td>\n",
       "      <td>198</td>\n",
       "    </tr>\n",
       "    <tr>\n",
       "      <th>0</th>\n",
       "      <td>Abril</td>\n",
       "      <td>182</td>\n",
       "    </tr>\n",
       "    <tr>\n",
       "      <th>3</th>\n",
       "      <td>Enero</td>\n",
       "      <td>175</td>\n",
       "    </tr>\n",
       "    <tr>\n",
       "      <th>8</th>\n",
       "      <td>Mayo</td>\n",
       "      <td>174</td>\n",
       "    </tr>\n",
       "    <tr>\n",
       "      <th>7</th>\n",
       "      <td>Marzo</td>\n",
       "      <td>168</td>\n",
       "    </tr>\n",
       "    <tr>\n",
       "      <th>10</th>\n",
       "      <td>Octubre</td>\n",
       "      <td>164</td>\n",
       "    </tr>\n",
       "    <tr>\n",
       "      <th>9</th>\n",
       "      <td>Noviembre</td>\n",
       "      <td>163</td>\n",
       "    </tr>\n",
       "    <tr>\n",
       "      <th>5</th>\n",
       "      <td>Julio</td>\n",
       "      <td>160</td>\n",
       "    </tr>\n",
       "    <tr>\n",
       "      <th>4</th>\n",
       "      <td>Febrero</td>\n",
       "      <td>156</td>\n",
       "    </tr>\n",
       "    <tr>\n",
       "      <th>6</th>\n",
       "      <td>Junio</td>\n",
       "      <td>152</td>\n",
       "    </tr>\n",
       "  </tbody>\n",
       "</table>\n",
       "</div>"
      ],
      "text/plain": [
       "       mes_ocu  counts\n",
       "11  Septiembre     207\n",
       "2    Diciembre     199\n",
       "1       Agosto     198\n",
       "0        Abril     182\n",
       "3        Enero     175\n",
       "8         Mayo     174\n",
       "7        Marzo     168\n",
       "10     Octubre     164\n",
       "9    Noviembre     163\n",
       "5        Julio     160\n",
       "4      Febrero     156\n",
       "6        Junio     152"
      ]
     },
     "execution_count": 19,
     "metadata": {},
     "output_type": "execute_result"
    }
   ],
   "source": [
    "dataAcc_Total.groupby('mes_ocu').size().reset_index(name='counts').sort_values(by=['counts'], ascending=False)"
   ]
  },
  {
   "cell_type": "code",
   "execution_count": 26,
   "metadata": {},
   "outputs": [
    {
     "name": "stderr",
     "output_type": "stream",
     "text": [
      "/home/gustavo/.local/lib/python3.6/site-packages/seaborn/_decorators.py:43: FutureWarning: Pass the following variables as keyword args: x, y. From version 0.12, the only valid positional argument will be `data`, and passing other arguments without an explicit keyword will result in an error or misinterpretation.\n",
      "  FutureWarning\n"
     ]
    },
    {
     "data": {
      "text/plain": [
       "<matplotlib.axes._subplots.AxesSubplot at 0x7f11482c6550>"
      ]
     },
     "execution_count": 26,
     "metadata": {},
     "output_type": "execute_result"
    },
    {
     "data": {
      "image/png": "[encoded data removed]",
      "text/plain": [
       "<Figure size 1080x360 with 1 Axes>"
      ]
     },
     "metadata": {
      "needs_background": "light"
     },
     "output_type": "display_data"
    }
   ],
   "source": [
    "s = dataAcc_Total.groupby('día_sem_ocu').size().reset_index(name='counts').sort_values(ascending=False, by=['counts'])\n",
    "fig_dims = (15, 5)\n",
    "fig, ax = plt.subplots(figsize=fig_dims)\n",
    "sns.barplot(s.día_sem_ocu, s.counts, alpha=0.8, ax=ax,palette=(\"black\",\"red\",\"blue\",\"pink\",\"gray\",\"yellow\",\"red\",\"orange\",\"brown\"))"
   ]
  },
  {
   "cell_type": "code",
   "execution_count": 27,
   "metadata": {},
   "outputs": [
    {
     "data": {
      "text/html": [
       "<div>\n",
       "<style scoped>\n",
       "    .dataframe tbody tr th:only-of-type {\n",
       "        vertical-align: middle;\n",
       "    }\n",
       "\n",
       "    .dataframe tbody tr th {\n",
       "        vertical-align: top;\n",
       "    }\n",
       "\n",
       "    .dataframe thead th {\n",
       "        text-align: right;\n",
       "    }\n",
       "</style>\n",
       "<table border=\"1\" class=\"dataframe\">\n",
       "  <thead>\n",
       "    <tr style=\"text-align: right;\">\n",
       "      <th></th>\n",
       "      <th>día_sem_ocu</th>\n",
       "      <th>counts</th>\n",
       "    </tr>\n",
       "  </thead>\n",
       "  <tbody>\n",
       "    <tr>\n",
       "      <th>0</th>\n",
       "      <td>Domingo</td>\n",
       "      <td>419</td>\n",
       "    </tr>\n",
       "    <tr>\n",
       "      <th>5</th>\n",
       "      <td>Sabado</td>\n",
       "      <td>395</td>\n",
       "    </tr>\n",
       "    <tr>\n",
       "      <th>6</th>\n",
       "      <td>Viernes</td>\n",
       "      <td>313</td>\n",
       "    </tr>\n",
       "    <tr>\n",
       "      <th>2</th>\n",
       "      <td>Lunes</td>\n",
       "      <td>270</td>\n",
       "    </tr>\n",
       "    <tr>\n",
       "      <th>1</th>\n",
       "      <td>Jueves</td>\n",
       "      <td>255</td>\n",
       "    </tr>\n",
       "    <tr>\n",
       "      <th>4</th>\n",
       "      <td>Miercoles</td>\n",
       "      <td>235</td>\n",
       "    </tr>\n",
       "    <tr>\n",
       "      <th>3</th>\n",
       "      <td>Martes</td>\n",
       "      <td>211</td>\n",
       "    </tr>\n",
       "  </tbody>\n",
       "</table>\n",
       "</div>"
      ],
      "text/plain": [
       "  día_sem_ocu  counts\n",
       "0     Domingo     419\n",
       "5      Sabado     395\n",
       "6     Viernes     313\n",
       "2       Lunes     270\n",
       "1      Jueves     255\n",
       "4   Miercoles     235\n",
       "3      Martes     211"
      ]
     },
     "execution_count": 27,
     "metadata": {},
     "output_type": "execute_result"
    }
   ],
   "source": [
    "dataAcc_Total.groupby('día_sem_ocu').size().reset_index(name='counts').sort_values(by=['counts'], ascending=False)"
   ]
  },
  {
   "cell_type": "code",
   "execution_count": 41,
   "metadata": {},
   "outputs": [
    {
     "name": "stderr",
     "output_type": "stream",
     "text": [
      "/home/gustavo/.local/lib/python3.6/site-packages/seaborn/_decorators.py:43: FutureWarning: Pass the following variables as keyword args: x, y. From version 0.12, the only valid positional argument will be `data`, and passing other arguments without an explicit keyword will result in an error or misinterpretation.\n",
      "  FutureWarning\n"
     ]
    },
    {
     "data": {
      "text/plain": [
       "<matplotlib.axes._subplots.AxesSubplot at 0x7f1145722c18>"
      ]
     },
     "execution_count": 41,
     "metadata": {},
     "output_type": "execute_result"
    },
    {
     "data": {
      "image/png": "[encoded data removed]",
      "text/plain": [
       "<Figure size 1080x360 with 1 Axes>"
      ]
     },
     "metadata": {
      "needs_background": "light"
     },
     "output_type": "display_data"
    }
   ],
   "source": [
    "s = dataAcc_Total.groupby('día_ocu').size().reset_index(name='counts')\n",
    "fig_dims = (15, 5)\n",
    "fig, ax = plt.subplots(figsize=fig_dims)\n",
    "sns.barplot(s.día_ocu, s.counts, alpha=0.8, ax=ax)"
   ]
  },
  {
   "cell_type": "code",
   "execution_count": 40,
   "metadata": {},
   "outputs": [
    {
     "data": {
      "text/html": [
       "<div>\n",
       "<style scoped>\n",
       "    .dataframe tbody tr th:only-of-type {\n",
       "        vertical-align: middle;\n",
       "    }\n",
       "\n",
       "    .dataframe tbody tr th {\n",
       "        vertical-align: top;\n",
       "    }\n",
       "\n",
       "    .dataframe thead th {\n",
       "        text-align: right;\n",
       "    }\n",
       "</style>\n",
       "<table border=\"1\" class=\"dataframe\">\n",
       "  <thead>\n",
       "    <tr style=\"text-align: right;\">\n",
       "      <th></th>\n",
       "      <th>día_ocu</th>\n",
       "      <th>counts</th>\n",
       "    </tr>\n",
       "  </thead>\n",
       "  <tbody>\n",
       "    <tr>\n",
       "      <th>0</th>\n",
       "      <td>1.0</td>\n",
       "      <td>100</td>\n",
       "    </tr>\n",
       "    <tr>\n",
       "      <th>16</th>\n",
       "      <td>17.0</td>\n",
       "      <td>92</td>\n",
       "    </tr>\n",
       "    <tr>\n",
       "      <th>6</th>\n",
       "      <td>7.0</td>\n",
       "      <td>82</td>\n",
       "    </tr>\n",
       "    <tr>\n",
       "      <th>20</th>\n",
       "      <td>21.0</td>\n",
       "      <td>78</td>\n",
       "    </tr>\n",
       "    <tr>\n",
       "      <th>11</th>\n",
       "      <td>12.0</td>\n",
       "      <td>78</td>\n",
       "    </tr>\n",
       "  </tbody>\n",
       "</table>\n",
       "</div>"
      ],
      "text/plain": [
       "    día_ocu  counts\n",
       "0       1.0     100\n",
       "16     17.0      92\n",
       "6       7.0      82\n",
       "20     21.0      78\n",
       "11     12.0      78"
      ]
     },
     "execution_count": 40,
     "metadata": {},
     "output_type": "execute_result"
    }
   ],
   "source": [
    "dataAcc_Total.groupby('día_ocu').size().reset_index(name='counts').sort_values(by=['counts'], ascending=False).head(5)"
   ]
  },
  {
   "cell_type": "code",
   "execution_count": 31,
   "metadata": {},
   "outputs": [
    {
     "name": "stderr",
     "output_type": "stream",
     "text": [
      "/home/gustavo/.local/lib/python3.6/site-packages/seaborn/_decorators.py:43: FutureWarning: Pass the following variables as keyword args: x, y. From version 0.12, the only valid positional argument will be `data`, and passing other arguments without an explicit keyword will result in an error or misinterpretation.\n",
      "  FutureWarning\n"
     ]
    },
    {
     "data": {
      "text/plain": [
       "<matplotlib.axes._subplots.AxesSubplot at 0x7f11459c2978>"
      ]
     },
     "execution_count": 31,
     "metadata": {},
     "output_type": "execute_result"
    },
    {
     "data": {
      "image/png": "[encoded data removed]",
      "text/plain": [
       "<Figure size 1080x360 with 1 Axes>"
      ]
     },
     "metadata": {
      "needs_background": "light"
     },
     "output_type": "display_data"
    }
   ],
   "source": [
    "s = dataAcc_Total.groupby('sexo_per').size().reset_index(name='counts').sort_values(ascending=False, by=['counts'])\n",
    "fig_dims = (15, 5)\n",
    "fig, ax = plt.subplots(figsize=fig_dims)\n",
    "sns.barplot(s.sexo_per, s.counts, alpha=0.8, ax=ax,palette=(\"black\",\"red\"))"
   ]
  },
  {
   "cell_type": "code",
   "execution_count": 32,
   "metadata": {},
   "outputs": [
    {
     "data": {
      "text/html": [
       "<div>\n",
       "<style scoped>\n",
       "    .dataframe tbody tr th:only-of-type {\n",
       "        vertical-align: middle;\n",
       "    }\n",
       "\n",
       "    .dataframe tbody tr th {\n",
       "        vertical-align: top;\n",
       "    }\n",
       "\n",
       "    .dataframe thead th {\n",
       "        text-align: right;\n",
       "    }\n",
       "</style>\n",
       "<table border=\"1\" class=\"dataframe\">\n",
       "  <thead>\n",
       "    <tr style=\"text-align: right;\">\n",
       "      <th></th>\n",
       "      <th>sexo_per</th>\n",
       "      <th>counts</th>\n",
       "    </tr>\n",
       "  </thead>\n",
       "  <tbody>\n",
       "    <tr>\n",
       "      <th>0</th>\n",
       "      <td>Hombre</td>\n",
       "      <td>611</td>\n",
       "    </tr>\n",
       "    <tr>\n",
       "      <th>1</th>\n",
       "      <td>Mujer</td>\n",
       "      <td>35</td>\n",
       "    </tr>\n",
       "  </tbody>\n",
       "</table>\n",
       "</div>"
      ],
      "text/plain": [
       "  sexo_per  counts\n",
       "0   Hombre     611\n",
       "1    Mujer      35"
      ]
     },
     "execution_count": 32,
     "metadata": {},
     "output_type": "execute_result"
    }
   ],
   "source": [
    "dataAcc_Total.groupby('sexo_per').size().reset_index(name='counts').sort_values(by=['counts'], ascending=False)"
   ]
  },
  {
   "cell_type": "markdown",
   "metadata": {},
   "source": [
    "# PALETA DE COLORES ESCOGIDA"
   ]
  },
  {
   "cell_type": "markdown",
   "metadata": {},
   "source": [
    "https://coolors.co/003049-d62828-f77f00-fcbf49-eae2b7"
   ]
  },
  {
   "cell_type": "code",
   "execution_count": 21,
   "metadata": {},
   "outputs": [
    {
     "data": {
      "image/png": "[encoded data removed]",
      "text/plain": [
       "<IPython.core.display.Image object>"
      ]
     },
     "execution_count": 21,
     "metadata": {},
     "output_type": "execute_result"
    }
   ],
   "source": [
    "from IPython.display import Image\n",
    "Image(\"./paleta.png\")"
   ]
  },
  {
   "cell_type": "markdown",
   "metadata": {},
   "source": [
    "Se eligio esta paleta de colores debido a que los colores fuertes como rojo y naranja para remarcar datos importantes de los accidentes."
   ]
  },
  {
   "cell_type": "code",
   "execution_count": 22,
   "metadata": {},
   "outputs": [
    {
     "data": {
      "text/plain": [
       "<matplotlib.axes._subplots.AxesSubplot at 0x7f114852e2b0>"
      ]
     },
     "execution_count": 22,
     "metadata": {},
     "output_type": "execute_result"
    },
    {
     "data": {
      "image/png": "[encoded data removed]",
      "text/plain": [
       "<Figure size 432x288 with 1 Axes>"
      ]
     },
     "metadata": {
      "needs_background": "light"
     },
     "output_type": "display_data"
    }
   ],
   "source": [
    "acc_by_year = dataAcc_Total.groupby('año_ocu')\n",
    "acc_by_year['año_ocu'].count().plot()"
   ]
  },
  {
   "cell_type": "code",
   "execution_count": 23,
   "metadata": {},
   "outputs": [
    {
     "data": {
      "image/png": "[encoded data removed]",
      "text/plain": [
       "<Figure size 432x288 with 1 Axes>"
      ]
     },
     "metadata": {
      "needs_background": "light"
     },
     "output_type": "display_data"
    }
   ],
   "source": [
    "x = [2015, 2016, 2017, 2018]\n",
    "y = [650, 616, 400, 450]\n",
    "\n",
    "x = np.array(x).reshape(4, 1)\n",
    "y = np.array(y).reshape(4, 1)\n",
    "\n",
    "reg = linear_model.LinearRegression()\n",
    "reg.fit(x, y)\n",
    "\n",
    "years = [2015, 2016, 2017, 2018, 2019, 2020, 2025]\n",
    "x_pred = np.array(years).reshape(len(years), 1)\n",
    "y_pred = reg.predict(x_pred)\n",
    "\n",
    "plt.scatter(x, y,  color='black')\n",
    "plt.plot(x_pred, y_pred, color='blue', linewidth=3)\n",
    "plt.xticks((years))\n",
    "plt.yticks((y_pred))\n",
    "plt.show()"
   ]
  },
  {
   "cell_type": "code",
   "execution_count": null,
   "metadata": {},
   "outputs": [],
   "source": []
  }
 ],
 "metadata": {
  "kernelspec": {
   "display_name": "Python 3",
   "language": "python",
   "name": "python3"
  },
  "language_info": {
   "codemirror_mode": {
    "name": "ipython",
    "version": 3
   },
   "file_extension": ".py",
   "mimetype": "text/x-python",
   "name": "python",
   "nbconvert_exporter": "python",
   "pygments_lexer": "ipython3",
   "version": "3.6.9"
  }
 },
 "nbformat": 4,
 "nbformat_minor": 4
}
